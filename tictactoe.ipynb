{
 "cells": [
  {
   "cell_type": "markdown",
   "metadata": {},
   "source": [
    "# Rules \n",
    "Tic-tac-toe (also known as noughts and crosses or Xs and Os) is a game for two players, X and O, who take turns marking the spaces in a 3×3 grid. The player who succeeds in placing three of their marks in a horizontal, vertical, or diagonal row wins the game.\n",
    "\n",
    "\n",
    "### Plan \n",
    "#### Variables and constants \n",
    "##### Variables\n",
    "- board - will store the 3x3 grid and the pieces placed on it - 2D Array - characters\n",
    "- locationRow - will store the location of X and O to be placed for a row - integer\n",
    "- locationCol - will store the location of X and O to be placed for a column - integer\n",
    "\n",
    "##### Constants \n",
    "- symbols - only X or O - characters \n",
    "- board - only 3x3 grid - 2D array - characters  \n",
    "\n",
    "### Algorithm\n",
    "https://mail.google.com/mail/u/0/?ui=2&ik=89a20caae4&view=fimg&th=1612fdafaa41c8a6&attid=0.3&disp=emb&realattid=1612fd8d16e433b44243&attbid=ANGjdJ-X0kx2AC7oxdQuUnvFps_6hEYJSQp-KgbLqtodHrSYTVqsibvc4v9Q75V1Jjoi6rLre0nJcuxdKOtorklgpMQzmM-ouci3cS60_WUDUUiLwnXOWJ2zPpa7rto&sz=s0-l75-ft&ats=1517177497746&rm=1612fdafaa41c8a6&zw&atsh=1\n",
    "\n",
    "https://mail.google.com/mail/u/0/?ui=2&ik=89a20caae4&view=fimg&th=1612fdafaa41c8a6&attid=0.2&disp=emb&realattid=1612fd89d1ebb11cf2b1&attbid=ANGjdJ9qHeuOiV5W6SOX9XpHx3cX2CbyQLGBeYD1zLFLs-0Ek7I_W_w47YBi39OETI7DWRGsh9wlmag9ErbrLJs4HtVaILIw6KWzbxKFF321exh4jCSxRlMRaIFbsGc&sz=s0-l75-ft&ats=1517177497746&rm=1612fdafaa41c8a6&zw&atsh=1\n",
    "\n",
    "https://mail.google.com/mail/u/0/?ui=2&ik=89a20caae4&view=fimg&th=1612fdafaa41c8a6&attid=0.4&disp=emb&realattid=1612fd8c4a4def530232&attbid=ANGjdJ9RrYKo2AxvYNsoaUidY5kKH7L5_kFsS2Y-yoEI7aUK1_HfLuNEdMh_lmzqZvq-EKvgePrQ8ORE_PaTLTHf3IU1fY0VrBSKpxtchQK6mGhmmC3TpwwFy06r8rE&sz=s0-l75-ft&ats=1517177497746&rm=1612fdafaa41c8a6&zw&atsh=1\n",
    "\n",
    "### Test plan \n",
    "https://docs.google.com/document/d/1hdMd-qkj_FErbR25jDoS094EyorY_KglPA9pnIoKW-M/edit"
   ]
  }
 ],
 "metadata": {
  "kernelspec": {
   "display_name": "Python 3",
   "language": "python",
   "name": "python3"
  },
  "language_info": {
   "codemirror_mode": {
    "name": "ipython",
    "version": 3
   },
   "file_extension": ".py",
   "mimetype": "text/x-python",
   "name": "python",
   "nbconvert_exporter": "python",
   "pygments_lexer": "ipython3",
   "version": "3.5.2"
  }
 },
 "nbformat": 4,
 "nbformat_minor": 2
}
